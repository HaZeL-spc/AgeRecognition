{
 "cells": [
  {
   "cell_type": "markdown",
   "id": "ae42f5f1-878c-419c-95b7-31f68f2305fd",
   "metadata": {},
   "source": [
    "# THE EASY WAY\n",
    "importing package cv2 and using it to detect where are faces (works on multiple faces)"
   ]
  },
  {
   "cell_type": "code",
   "execution_count": 3,
   "id": "9169c424-9c93-44db-9154-7bc378ff4756",
   "metadata": {},
   "outputs": [],
   "source": [
    "import tkinter as tk\n",
    "import tkinter.ttk as ttk\n",
    "import tkinter.font as fnt\n",
    "from tkinter import filedialog\n",
    "import cv2\n"
   ]
  },
  {
   "cell_type": "code",
   "execution_count": 4,
   "id": "00b8b43b-6dbc-4903-ab62-f1ab93c3a946",
   "metadata": {},
   "outputs": [],
   "source": [
    "face_cascade = cv2.CascadeClassifier('haarsascade_frontalface_default.xml')\n",
    "path = \"SampleVideo.mp4\"\n",
    "\n",
    "def AddVideoEvent():\n",
    "    cap = cv2.VideoCapture(path)\n",
    "    show_video(cap)"
   ]
  },
  {
   "cell_type": "code",
   "execution_count": 4,
   "id": "cad02b74-3921-4e4f-9780-39acccfc0f14",
   "metadata": {},
   "outputs": [],
   "source": [
    "def show_video(cap):\n",
    "    while True:\n",
    "        # Read the frame\n",
    "        _, img = cap.read()\n",
    "\n",
    "        # Convert to grayscale\n",
    "        gray = cv2.cvtColor(img, cv2.COLOR_BGR2GRAY)\n",
    "\n",
    "        # Detect the faces\n",
    "        faces = face_cascade.detectMultiScale(gray, 1.1, 4)\n",
    "\n",
    "        # Draw the rectangle around each face\n",
    "        for (x, y, w, h) in faces:\n",
    "            cv2.rectangle(img, (x, y), (x + w, y + h), (255, 0, 0), 2)\n",
    "\n",
    "        # Display\n",
    "        cv2.imshow('img', img)\n",
    "\n",
    "        # Stop if escape key is pressed\n",
    "        k = cv2.waitKey(30) & 0xff\n",
    "        if k == 27:\n",
    "            break\n",
    "    \n",
    "    # Release the VideoCapture object\n",
    "    cap.release()\n",
    "    cv2.destroyAllWindows()"
   ]
  },
  {
   "cell_type": "code",
   "execution_count": 5,
   "id": "1b833f7d-61f9-430f-8d09-a0ea4dec899e",
   "metadata": {},
   "outputs": [
    {
     "ename": "error",
     "evalue": "OpenCV(4.8.1) D:\\a\\opencv-python\\opencv-python\\opencv\\modules\\imgproc\\src\\color.cpp:182: error: (-215:Assertion failed) !_src.empty() in function 'cv::cvtColor'\n",
     "output_type": "error",
     "traceback": [
      "\u001b[1;31m---------------------------------------------------------------------------\u001b[0m",
      "\u001b[1;31merror\u001b[0m                                     Traceback (most recent call last)",
      "Cell \u001b[1;32mIn[5], line 1\u001b[0m\n\u001b[1;32m----> 1\u001b[0m \u001b[43mAddVideoEvent\u001b[49m\u001b[43m(\u001b[49m\u001b[43m)\u001b[49m\n",
      "Cell \u001b[1;32mIn[3], line 6\u001b[0m, in \u001b[0;36mAddVideoEvent\u001b[1;34m()\u001b[0m\n\u001b[0;32m      4\u001b[0m \u001b[38;5;28;01mdef\u001b[39;00m \u001b[38;5;21mAddVideoEvent\u001b[39m():\n\u001b[0;32m      5\u001b[0m     cap \u001b[38;5;241m=\u001b[39m cv2\u001b[38;5;241m.\u001b[39mVideoCapture(path)\n\u001b[1;32m----> 6\u001b[0m     \u001b[43mshow_video\u001b[49m\u001b[43m(\u001b[49m\u001b[43mcap\u001b[49m\u001b[43m)\u001b[49m\n",
      "Cell \u001b[1;32mIn[4], line 7\u001b[0m, in \u001b[0;36mshow_video\u001b[1;34m(cap)\u001b[0m\n\u001b[0;32m      4\u001b[0m _, img \u001b[38;5;241m=\u001b[39m cap\u001b[38;5;241m.\u001b[39mread()\n\u001b[0;32m      6\u001b[0m \u001b[38;5;66;03m# Convert to grayscale\u001b[39;00m\n\u001b[1;32m----> 7\u001b[0m gray \u001b[38;5;241m=\u001b[39m \u001b[43mcv2\u001b[49m\u001b[38;5;241;43m.\u001b[39;49m\u001b[43mcvtColor\u001b[49m\u001b[43m(\u001b[49m\u001b[43mimg\u001b[49m\u001b[43m,\u001b[49m\u001b[43m \u001b[49m\u001b[43mcv2\u001b[49m\u001b[38;5;241;43m.\u001b[39;49m\u001b[43mCOLOR_BGR2GRAY\u001b[49m\u001b[43m)\u001b[49m\n\u001b[0;32m      9\u001b[0m \u001b[38;5;66;03m# Detect the faces\u001b[39;00m\n\u001b[0;32m     10\u001b[0m faces \u001b[38;5;241m=\u001b[39m face_cascade\u001b[38;5;241m.\u001b[39mdetectMultiScale(gray, \u001b[38;5;241m1.1\u001b[39m, \u001b[38;5;241m4\u001b[39m)\n",
      "\u001b[1;31merror\u001b[0m: OpenCV(4.8.1) D:\\a\\opencv-python\\opencv-python\\opencv\\modules\\imgproc\\src\\color.cpp:182: error: (-215:Assertion failed) !_src.empty() in function 'cv::cvtColor'\n"
     ]
    }
   ],
   "source": [
    "AddVideoEvent()"
   ]
  },
  {
   "cell_type": "markdown",
   "id": "bbefba7b-b4f7-423a-8089-c3379e094d58",
   "metadata": {},
   "source": [
    "## THE HARD WAY\n",
    "\n",
    "now i will try to implement this myself"
   ]
  },
  {
   "cell_type": "markdown",
   "id": "9f61e5e0-e738-47a4-97e5-dc5f93250ae8",
   "metadata": {},
   "source": [
    "### 1.1 COLLECTING DATA\n",
    "for my first try i will collect data out of videos i found online and i captured photos out of them and making labels out of them"
   ]
  },
  {
   "cell_type": "code",
   "execution_count": 5,
   "id": "0c716d24-133f-402a-b7e4-2098f41c0eee",
   "metadata": {},
   "outputs": [],
   "source": [
    "import os\n",
    "import time\n",
    "import uuid\n",
    "import cv2"
   ]
  },
  {
   "cell_type": "code",
   "execution_count": 6,
   "id": "7419fe6e-ffa4-4539-b7bb-07ecfd5cc4a9",
   "metadata": {},
   "outputs": [],
   "source": [
    "IMAGES_PATH = os.path.join('Data','Images')\n",
    "videos_paths = [os.path.join('DataVideos',f\"Video{i}.mp4\") for i in range(1,7)]\n",
    "number_images = 10\n"
   ]
  },
  {
   "cell_type": "code",
   "execution_count": 23,
   "id": "22a4b813-ab86-4bd9-8740-d36ac6e7d372",
   "metadata": {},
   "outputs": [
    {
     "ename": "SyntaxError",
     "evalue": "'(' was never closed (3776592053.py, line 8)",
     "output_type": "error",
     "traceback": [
      "\u001b[1;36m  Cell \u001b[1;32mIn[23], line 8\u001b[1;36m\u001b[0m\n\u001b[1;33m    print('Collecting image {}'.format((imgnum//4))\u001b[0m\n\u001b[1;37m         ^\u001b[0m\n\u001b[1;31mSyntaxError\u001b[0m\u001b[1;31m:\u001b[0m '(' was never closed\n"
     ]
    }
   ],
   "source": [
    "\n",
    "for path in videos_paths:\n",
    "    cap = cv2.VideoCapture(path)\n",
    "    i = 0\n",
    "    for imgnum in range(number_images * 4):\n",
    "        \n",
    "        ret, frame = cap.read()\n",
    "        if i % 4 == 0:\n",
    "            print('Collecting image {}'.format((imgnum//4))\n",
    "            imgname = os.path.join(IMAGES_PATH,f'{str(uuid.uuid1())}.jpg')\n",
    "            cv2.imwrite(imgname, frame)\n",
    "            cv2.imshow('frame', frame)\n",
    "\n",
    "        time.sleep(0.5)\n",
    "        if cv2.waitKey(1) & 0xFF == ord('q'):\n",
    "            break\n",
    "        i += 1\n",
    "    cap.release()\n",
    "    cv2.destroyAllWindows()"
   ]
  },
  {
   "cell_type": "code",
   "execution_count": null,
   "id": "450ef645-6d19-4a8f-99e4-ab56b9c486a8",
   "metadata": {},
   "outputs": [],
   "source": [
    "!labelme"
   ]
  },
  {
   "cell_type": "markdown",
   "id": "bfc17fcc-d817-40c1-b0d3-21dd1ec40232",
   "metadata": {},
   "source": [
    "### 1.2 COLLECTING IMAGES OUT OF UTK DATABASE\n",
    "\n",
    "i will use opencv library to detect faces out of my database and create labels to work with them later\n"
   ]
  },
  {
   "cell_type": "code",
   "execution_count": 19,
   "id": "fa3aae4c-591e-4ad4-ae85-4e5043b7ae19",
   "metadata": {},
   "outputs": [],
   "source": [
    "import json\n",
    "from PIL import Image"
   ]
  },
  {
   "cell_type": "code",
   "execution_count": 20,
   "id": "eae8badb-7716-4f7d-92a0-f2877e6a19f6",
   "metadata": {},
   "outputs": [],
   "source": [
    "def create_labelme_json(label, points, image_path, image_height, image_width):\n",
    "    points = [[int(x), int(y)] for x, y in points]\n",
    "    \n",
    "    return {\n",
    "        \"version\": \"5.3.1\",\n",
    "        \"flags\": {},\n",
    "        \"shapes\": [\n",
    "            {\n",
    "                \"label\": label,\n",
    "                \"points\": points,  # coordinates of the top-left and bottom-right corners\n",
    "                \"group_id\": None,\n",
    "                \"shape_type\": \"rectangle\",\n",
    "                \"flags\": {}\n",
    "            },\n",
    "            # add more shapes if necessary\n",
    "        ],\n",
    "        \"imagePath\": image_path,\n",
    "        \"imageData\": None,\n",
    "        \"imageHeight\": image_height,\n",
    "        \"imageWidth\": image_width\n",
    "    }\n",
    "\n",
    "def add_file_to_folder_json(folder, subfolder, filename, data):\n",
    "    base_name = os.path.splitext(filename)[0]\n",
    "    # Construct the new file name\n",
    "    output_file = base_name + '.json'\n",
    "    \n",
    "    file_path = os.path.join(folder, subfolder, output_file)\n",
    "    os.makedirs(os.path.dirname(file_path), exist_ok=True)\n",
    "    \n",
    "    with open(file_path, 'w') as f:\n",
    "        json.dump(data, f)\n",
    "\n",
    "def delete_from_folder(folder,subfolder,filename):\n",
    "    file_path = os.path.join(folder, subfolder, filename)\n",
    "\n",
    "    try:\n",
    "        # Check if the file exists\n",
    "        if os.path.exists(file_path):\n",
    "            # Delete the file\n",
    "            os.remove(file_path)\n",
    "            print(f\"Deleted: {file_path}\")\n",
    "        else:\n",
    "            print(f\"File not found: {file_path}\")\n",
    "    except Exception as e:\n",
    "        print(f\"Error deleting file: {e}\")"
   ]
  },
  {
   "cell_type": "code",
   "execution_count": 21,
   "id": "2a016dbc-4bed-42f4-9f09-119de9914f6c",
   "metadata": {},
   "outputs": [],
   "source": [
    "\n",
    "directoryImages = \".\\\\UTKData\\\\Images\"\n",
    "files = os.listdir(directoryImages)"
   ]
  },
  {
   "cell_type": "code",
   "execution_count": 22,
   "id": "5257dc6c-fa9a-4991-9d27-8b9aaf58ad4f",
   "metadata": {},
   "outputs": [],
   "source": [
    "def get_image_size(file_path):\n",
    "    # Open the image file\n",
    "    img = Image.open(file_path)\n",
    "    # Get the width and height of the image\n",
    "    width, height = img.size\n",
    "    return width, height\n",
    "\n",
    "def save_label(image_path):\n",
    "    file_path = f\".\\\\UTKData\\\\Images\\\\{image_path}\"\n",
    "    img = cv2.imread(file_path)\n",
    "    width, height = get_image_size(file_path)\n",
    "    \n",
    "    # Convert to grayscale\n",
    "    gray = cv2.cvtColor(img, cv2.COLOR_BGR2GRAY)\n",
    "    \n",
    "    # Detect the faces\n",
    "    faces = face_cascade.detectMultiScale(gray, 1.1, 4)\n",
    "    \n",
    "    # Draw the rectangle around each face\n",
    "    if (len(faces) > 0):\n",
    "        (x, y, w, h) = faces[0]\n",
    "        cv2.rectangle(img, (x, y), (x + w, y + h), (255, 0, 0), 2)\n",
    "    \n",
    "            \n",
    "        my_json_file = create_labelme_json(\"face\",[[x, y],[x + w, y + h]], file_path, height, width)\n",
    "        # print(my_json_file)\n",
    "        add_file_to_folder_json(\"UTKData\",\"Labels\",image_path,my_json_file)\n",
    "    # cv2.destroyAllWindows()\n"
   ]
  },
  {
   "cell_type": "code",
   "execution_count": 23,
   "id": "51650ec9-4959-4af4-9255-0c5fb45a0382",
   "metadata": {},
   "outputs": [
    {
     "name": "stdout",
     "output_type": "stream",
     "text": [
      "10_0_0_20170116201102149.jpg\n"
     ]
    }
   ],
   "source": [
    "print(files[0])"
   ]
  },
  {
   "cell_type": "code",
   "execution_count": 24,
   "id": "f1decb02-813f-4a70-87fb-249e2dc6bad2",
   "metadata": {},
   "outputs": [],
   "source": [
    "for file in files:\n",
    "    save_label(file)"
   ]
  },
  {
   "cell_type": "code",
   "execution_count": null,
   "id": "bc89cc70-761f-44e6-bf15-52e0e877be84",
   "metadata": {},
   "outputs": [],
   "source": []
  },
  {
   "cell_type": "code",
   "execution_count": null,
   "id": "9f237610-72e6-434c-812e-36ab1c809bc3",
   "metadata": {},
   "outputs": [],
   "source": []
  }
 ],
 "metadata": {
  "kernelspec": {
   "display_name": "my_env",
   "language": "python",
   "name": "my_env"
  },
  "language_info": {
   "codemirror_mode": {
    "name": "ipython",
    "version": 3
   },
   "file_extension": ".py",
   "mimetype": "text/x-python",
   "name": "python",
   "nbconvert_exporter": "python",
   "pygments_lexer": "ipython3",
   "version": "3.11.0"
  }
 },
 "nbformat": 4,
 "nbformat_minor": 5
}
