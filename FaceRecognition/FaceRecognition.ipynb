{
 "cells": [
  {
   "cell_type": "code",
   "execution_count": 1,
   "id": "9169c424-9c93-44db-9154-7bc378ff4756",
   "metadata": {},
   "outputs": [],
   "source": [
    "from tkinter import filedialog\n",
    "import cv2\n",
    "\n",
    "# file_path = filedialog.askopenfilename(filetypes=[(\"MP4 Files\", \"*.mp4\")])\n",
    "\n"
   ]
  },
  {
   "cell_type": "markdown",
   "id": "bbefba7b-b4f7-423a-8089-c3379e094d58",
   "metadata": {},
   "source": [
    "## THE HARD WAY\n",
    "\n",
    "now i will try to implement this myself"
   ]
  },
  {
   "cell_type": "code",
   "execution_count": null,
   "id": "9b51ee7a-116d-4691-a5d5-97debc091d78",
   "metadata": {},
   "outputs": [],
   "source": []
  }
 ],
 "metadata": {
  "kernelspec": {
   "display_name": "bootcamp_env",
   "language": "python",
   "name": "bootcamp_env"
  },
  "language_info": {
   "codemirror_mode": {
    "name": "ipython",
    "version": 3
   },
   "file_extension": ".py",
   "mimetype": "text/x-python",
   "name": "python",
   "nbconvert_exporter": "python",
   "pygments_lexer": "ipython3",
   "version": "3.11.0"
  }
 },
 "nbformat": 4,
 "nbformat_minor": 5
}
