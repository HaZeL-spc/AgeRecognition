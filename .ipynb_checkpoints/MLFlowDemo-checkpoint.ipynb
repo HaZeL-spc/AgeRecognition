{
 "cells": [
  {
   "cell_type": "markdown",
   "id": "a40e1498-f563-4df4-8994-21e44049ff9b",
   "metadata": {},
   "source": [
    "# MLFlow DEMO"
   ]
  },
  {
   "cell_type": "code",
   "execution_count": null,
   "id": "d1560d16-dc1f-48a9-8e55-429a6872d92e",
   "metadata": {},
   "outputs": [],
   "source": [
    "import mlflow\n",
    "from sklearn.datasets import load_iris\n",
    "from sklearn.model_selection import train_test_split\n",
    "from sklearn.ensemble import RandomForestClassifier\n",
    "from sklearn.metrics import accuracy_score"
   ]
  },
  {
   "cell_type": "code",
   "execution_count": null,
   "id": "f334a8a1-1422-4f63-b51a-0ca54465082d",
   "metadata": {},
   "outputs": [],
   "source": [
    "mlflow.set_tracking_uri(\"sqlite:///mlflow.db\")\n",
    "mlflow.set_experiment(\"test_experiment\")"
   ]
  },
  {
   "cell_type": "code",
   "execution_count": null,
   "id": "2d36474d-d381-4533-b82b-29b52175f4fe",
   "metadata": {},
   "outputs": [],
   "source": [
    "mlflow.sklearn.autolog(disable=True)\n",
    "\n",
    "# Load the Iris dataset\n",
    "iris = load_iris()\n",
    "X, y = iris.data, iris.target\n",
    "# Split the dataset into training and testing sets\n",
    "X_train, X_test, y_train, y_test = train_test_split(X, y, test_size=0.2, random_state=42)\n",
    "\n",
    "with mlflow.start_run(run_name='rf_baseline'):\n",
    "    params = {\n",
    "        \"n_estimators\": 100,\n",
    "        \"max_depth\": 20\n",
    "    }\n",
    "\n",
    "    mlflow.set_tag(\"model_name\", \"RF\")\n",
    "    mlflow.log_params(params)\n",
    "    \n",
    "    # Create a Random Forest Classifier\n",
    "    clf = RandomForestClassifier(n_estimators=100, random_state=42)\n",
    "    \n",
    "    # Train the model\n",
    "    clf.fit(X_train, y_train)\n",
    "    \n",
    "    # Make predictions\n",
    "    y_pred = clf.predict(X_test)\n",
    "    \n",
    "    # Evaluate the model\n",
    "    accuracy = accuracy_score(y_test, y_pred)\n",
    "\n",
    "    mlflow.log_metric(\"test_rmse\", accuracy)\n",
    "    mlflow.sklearn.log_model(clf, \"sk_models\")"
   ]
  },
  {
   "cell_type": "markdown",
   "id": "6f63aab9-baeb-47f5-a66d-774321d8afac",
   "metadata": {},
   "source": [
    "## Przykład funkcji do eksperymentowania z naszymi modelami\n",
    "W naszym przypadku możemy czegoś w tym stylu używać\n",
    "Dzięki temu, że będziemy mieli funkcję, to lepiej to będzie wyglądało niż jak będziemy przekopiowywać"
   ]
  },
  {
   "cell_type": "code",
   "execution_count": null,
   "id": "c8588f2f-ffa0-4f2a-ac92-c764a6709622",
   "metadata": {},
   "outputs": [],
   "source": [
    "def mlp_mlflow_run(\n",
    "    name,\n",
    "    mlp_params,\n",
    "    train_params,\n",
    "    train_dataset,\n",
    "    val_dataset,\n",
    "    test_dataset,\n",
    "    y_test,\n",
    "):\n",
    "    with mlflow.start_run(run_name=name):\n",
    "        mlflow.log_params(mlp_params)\n",
    "        mlflow.log_params(train_params)\n",
    "        mlflow.set_tag(\"model_name\", \"MLP\")\n",
    "        mlp = build_mlp(mlp_params)\n",
    "        mlp = train_mlp(mlp, train_params, train_dataset, val_dataset)\n",
    "        test_preds = mlp.predict(test_dataset)\n",
    "        test_rms = mean_squared_error(\n",
    "            y_test, test_preds.ravel(), squared=False\n",
    "        )\n",
    "        mlflow.log_metric(\"test_rmse\", test_rms)\n",
    "        mlflow.tensorflow.log_model(mlp, \"tf_models\")"
   ]
  }
 ],
 "metadata": {
  "kernelspec": {
   "display_name": "Python 3 (ipykernel)",
   "language": "python",
   "name": "python3"
  },
  "language_info": {
   "codemirror_mode": {
    "name": "ipython",
    "version": 3
   },
   "file_extension": ".py",
   "mimetype": "text/x-python",
   "name": "python",
   "nbconvert_exporter": "python",
   "pygments_lexer": "ipython3",
   "version": "3.11.0"
  }
 },
 "nbformat": 4,
 "nbformat_minor": 5
}
