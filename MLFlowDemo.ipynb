{
 "cells": [
  {
   "cell_type": "markdown",
   "id": "a40e1498-f563-4df4-8994-21e44049ff9b",
   "metadata": {},
   "source": [
    "# MLFlow DEMO"
   ]
  },
  {
   "cell_type": "code",
   "execution_count": 5,
   "id": "d1560d16-dc1f-48a9-8e55-429a6872d92e",
   "metadata": {},
   "outputs": [],
   "source": [
    "import mlflow\n",
    "from sklearn.datasets import load_iris\n",
    "from sklearn.model_selection import train_test_split\n",
    "from sklearn.ensemble import RandomForestClassifier\n",
    "from sklearn.metrics import accuracy_score\n",
    "import numpy as np"
   ]
  },
  {
   "cell_type": "code",
   "execution_count": 2,
   "id": "f334a8a1-1422-4f63-b51a-0ca54465082d",
   "metadata": {},
   "outputs": [
    {
     "data": {
      "text/plain": [
       "<Experiment: artifact_location='file:///C:/Users/kacpe/OneDrive/Pulpit/Uczelnia/semestr5/MachineLearning/mlruns/1', creation_time=1704549359680, experiment_id='1', last_update_time=1704549359680, lifecycle_stage='active', name='test_experiment', tags={}>"
      ]
     },
     "execution_count": 2,
     "metadata": {},
     "output_type": "execute_result"
    }
   ],
   "source": [
    "mlflow.set_tracking_uri(\"sqlite:///mlflow.db\")\n",
    "mlflow.set_experiment(\"test_experiment\")"
   ]
  },
  {
   "cell_type": "code",
   "execution_count": 3,
   "id": "2d36474d-d381-4533-b82b-29b52175f4fe",
   "metadata": {},
   "outputs": [],
   "source": [
    "mlflow.sklearn.autolog(disable=True)\n",
    "\n",
    "# Load the Iris dataset\n",
    "iris = load_iris()\n",
    "X, y = iris.data, iris.target\n",
    "# Split the dataset into training and testing sets\n",
    "X_train, X_test, y_train, y_test = train_test_split(X, y, test_size=0.2, random_state=42)\n",
    "\n",
    "with mlflow.start_run(run_name='rf_baseline'):\n",
    "    params = {\n",
    "        \"n_estimators\": 100,\n",
    "        \"max_depth\": 20\n",
    "    }\n",
    "\n",
    "    mlflow.set_tag(\"model_name\", \"RF\")\n",
    "    mlflow.log_params(params)\n",
    "    \n",
    "    # Create a Random Forest Classifier\n",
    "    clf = RandomForestClassifier(n_estimators=100, random_state=42)\n",
    "    \n",
    "    # Train the model\n",
    "    clf.fit(X_train, y_train)\n",
    "    \n",
    "    # Make predictions\n",
    "    y_pred = clf.predict(X_test)\n",
    "    \n",
    "    # Evaluate the model\n",
    "    accuracy = accuracy_score(y_test, y_pred)\n",
    "\n",
    "    mlflow.log_metric(\"test_rmse\", accuracy)\n",
    "    mlflow.sklearn.log_model(clf, \"sk_models\")"
   ]
  },
  {
   "cell_type": "code",
   "execution_count": 9,
   "id": "51aaebc9-ecf7-49b3-8348-86e835f9abd3",
   "metadata": {},
   "outputs": [],
   "source": [
    "logged_model = 'runs:/84b9ee80d8814f4ab3cbf205745c7542/sk_models' # string wzięty z serwera lokalnego\n",
    "\n",
    "# Load model as a PyFuncModel.\n",
    "loaded_model = mlflow.pyfunc.load_model(logged_model)\n"
   ]
  },
  {
   "cell_type": "code",
   "execution_count": null,
   "id": "c45c2f9d-ddf8-4cb2-bf4f-ca0ca8f4b512",
   "metadata": {},
   "outputs": [],
   "source": [
    "# Example new data points\n",
    "new_data = np.array([\n",
    "    [5.1, 3.5, 1.4, 0.2],  # Measurements for first flower\n",
    "    [6.1, 2.9, 4.7, 1.4]   # Measurements for second flower\n",
    "])"
   ]
  },
  {
   "cell_type": "code",
   "execution_count": 8,
   "id": "0908399b-076f-40d1-8dd5-952a95c3ef00",
   "metadata": {},
   "outputs": [
    {
     "ename": "NameError",
     "evalue": "name 'model' is not defined",
     "output_type": "error",
     "traceback": [
      "\u001b[1;31m---------------------------------------------------------------------------\u001b[0m",
      "\u001b[1;31mNameError\u001b[0m                                 Traceback (most recent call last)",
      "Cell \u001b[1;32mIn[8], line 2\u001b[0m\n\u001b[0;32m      1\u001b[0m \u001b[38;5;66;03m# Make predictions\u001b[39;00m\n\u001b[1;32m----> 2\u001b[0m predictions \u001b[38;5;241m=\u001b[39m \u001b[43mmodel\u001b[49m\u001b[38;5;241m.\u001b[39mpredict(new_data)\n\u001b[0;32m      4\u001b[0m \u001b[38;5;66;03m# Print predictions\u001b[39;00m\n\u001b[0;32m      5\u001b[0m \u001b[38;5;28;01mfor\u001b[39;00m i, prediction \u001b[38;5;129;01min\u001b[39;00m \u001b[38;5;28menumerate\u001b[39m(predictions):\n",
      "\u001b[1;31mNameError\u001b[0m: name 'model' is not defined"
     ]
    }
   ],
   "source": [
    "# Make predictions\n",
    "predictions = loaded_model.predict(new_data)\n",
    "\n",
    "# Print predictions\n",
    "for i, prediction in enumerate(predictions):\n",
    "    print(f\"Flower {i + 1} is predicted to be of species: {iris.target_names[prediction]}\")"
   ]
  },
  {
   "cell_type": "markdown",
   "id": "6f63aab9-baeb-47f5-a66d-774321d8afac",
   "metadata": {},
   "source": [
    "## Przykład funkcji do eksperymentowania z naszymi modelami\n",
    "W naszym przypadku możemy czegoś w tym stylu używać\n",
    "Dzięki temu, że będziemy mieli funkcję, to lepiej to będzie wyglądało niż jak będziemy przekopiowywać"
   ]
  },
  {
   "cell_type": "code",
   "execution_count": null,
   "id": "c8588f2f-ffa0-4f2a-ac92-c764a6709622",
   "metadata": {},
   "outputs": [],
   "source": [
    "def mlp_mlflow_run(\n",
    "    name,\n",
    "    mlp_params,\n",
    "    train_params,\n",
    "    train_dataset,\n",
    "    val_dataset,\n",
    "    test_dataset,\n",
    "    y_test,\n",
    "):\n",
    "    with mlflow.start_run(run_name=name):\n",
    "        mlflow.log_params(mlp_params)\n",
    "        mlflow.log_params(train_params)\n",
    "        mlflow.set_tag(\"model_name\", \"MLP\")\n",
    "        mlp = build_mlp(mlp_params)\n",
    "        mlp = train_mlp(mlp, train_params, train_dataset, val_dataset)\n",
    "        test_preds = mlp.predict(test_dataset)\n",
    "        test_rms = mean_squared_error(\n",
    "            y_test, test_preds.ravel(), squared=False\n",
    "        )\n",
    "        mlflow.log_metric(\"test_rmse\", test_rms)\n",
    "        mlflow.tensorflow.log_model(mlp, \"tf_models\")"
   ]
  }
 ],
 "metadata": {
  "kernelspec": {
   "display_name": "Python 3 (ipykernel)",
   "language": "python",
   "name": "python3"
  },
  "language_info": {
   "codemirror_mode": {
    "name": "ipython",
    "version": 3
   },
   "file_extension": ".py",
   "mimetype": "text/x-python",
   "name": "python",
   "nbconvert_exporter": "python",
   "pygments_lexer": "ipython3",
   "version": "3.11.0"
  }
 },
 "nbformat": 4,
 "nbformat_minor": 5
}
